{
 "cells": [
  {
   "cell_type": "markdown",
   "id": "45e9282c",
   "metadata": {},
   "source": [
    "### Perceber hábitos de consumo"
   ]
  },
  {
   "cell_type": "markdown",
   "id": "c5557e60",
   "metadata": {},
   "source": [
    "### Definir quanto dinheiro sobre por mês"
   ]
  },
  {
   "cell_type": "markdown",
   "id": "3a3e8a67",
   "metadata": {},
   "source": [
    "### Definir dinheiro que quero gastar no futuro"
   ]
  },
  {
   "cell_type": "markdown",
   "id": "5806cf96",
   "metadata": {},
   "source": [
    "### Investimentos e possíveis ganhos"
   ]
  },
  {
   "cell_type": "code",
   "execution_count": 1,
   "id": "b1d7cda7",
   "metadata": {},
   "outputs": [],
   "source": [
    "import pandas as pd"
   ]
  },
  {
   "cell_type": "code",
   "execution_count": null,
   "id": "1170d812",
   "metadata": {},
   "outputs": [],
   "source": [
    "Caixa = pd.read_csv('Cenas')"
   ]
  },
  {
   "cell_type": "code",
   "execution_count": null,
   "id": "51567916",
   "metadata": {},
   "outputs": [],
   "source": [
    "# Criar categorias\n",
    "\n",
    " "
   ]
  }
 ],
 "metadata": {
  "kernelspec": {
   "display_name": "Python 3 (ipykernel)",
   "language": "python",
   "name": "python3"
  },
  "language_info": {
   "codemirror_mode": {
    "name": "ipython",
    "version": 3
   },
   "file_extension": ".py",
   "mimetype": "text/x-python",
   "name": "python",
   "nbconvert_exporter": "python",
   "pygments_lexer": "ipython3",
   "version": "3.11.5"
  }
 },
 "nbformat": 4,
 "nbformat_minor": 5
}
